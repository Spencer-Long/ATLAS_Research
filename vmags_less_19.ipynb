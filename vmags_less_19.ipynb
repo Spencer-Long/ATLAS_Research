{
 "cells": [
  {
   "cell_type": "markdown",
   "metadata": {},
   "source": [
    "# ATLAS Simulated Data Script: Attempted Equations\n",
    "\n",
    "### Notes:\n",
    "\n",
    "* Vmag (Apparent Magnitude) of Sun = -26.7\n",
    " \n",
    "* Hmag (Absolute Magnitude) of Sun = 4.83 \n",
    "\n",
    "* Equation found through Spaceguard research for Apparent magnitude is [http://spaceguard.rm.iasf.cnr.it/NScience/neo/neo-what/ast-magnitude.htm]:\n",
    "\n",
    "## $ V_{mag} = 5\\log_{10}(rt) + H_{mag} + f(\\alpha)$\n",
    "    \n",
    "Where:\n",
    "                      \n",
    "$V_{mag} =$ Apparent Magnitude\n",
    "\n",
    "$r =$ The distance from the asteroid and the Sun\n",
    "\n",
    "$t =$ The distance between the asteroid and Earth\n",
    "\n",
    "$H_{mag} =$ The Absolute Magnitude\n",
    "\n",
    "$\\alpha =$ The angle between the lines of sight to Earth and the Sun as seen from the asteroid\n",
    "\n",
    "$f(\\alpha) =$ The phase function that depends on the movements of the NEO\n",
    "    \n",
    "\n",
    "\n",
    "\n"
   ]
  },
  {
   "cell_type": "markdown",
   "metadata": {},
   "source": [
    "#### Imports"
   ]
  },
  {
   "cell_type": "code",
   "execution_count": 1,
   "metadata": {},
   "outputs": [],
   "source": [
    "import numpy as np\n",
    "import math"
   ]
  },
  {
   "cell_type": "markdown",
   "metadata": {},
   "source": [
    "#### Data"
   ]
  },
  {
   "cell_type": "code",
   "execution_count": 2,
   "metadata": {},
   "outputs": [],
   "source": [
    "# File location of data\n",
    "\n",
    "directory = '/Users/Spencer/Desktop/ATLAS/ATLAS_Research/' "
   ]
  },
  {
   "cell_type": "code",
   "execution_count": 3,
   "metadata": {},
   "outputs": [],
   "source": [
    "data_np= np.genfromtxt(directory + 'atlasdata.txt',dtype='float', delimiter='',skip_header = 1\n",
    "              , names = ['asteroid_id'\n",
    "                        ,'geodist'\n",
    "                        ,'heliodist'\n",
    "                        ,'angvel'\n",
    "                        ,'phaseeffect'\n",
    "                        ,'geodistclose'\n",
    "                        ,'phaseangclose'\n",
    "                        ,'encountervel'],)"
   ]
  },
  {
   "cell_type": "code",
   "execution_count": 4,
   "metadata": {},
   "outputs": [
    {
     "data": {
      "text/plain": [
       "array([(10.0, 0.092574, 0.904878, 4.476545, 8.338, 0.037897, 83.6, 30.224),\n",
       "       (10.0, 0.076912, 0.922462, 6.45392, 7.396, 0.037897, 83.6, 30.224),\n",
       "       (10.0, 0.062289, 0.939907, 9.804935, 6.324, 0.037897, 83.6, 30.224),\n",
       "       (10.0, 0.049581, 0.957216, 15.439561, 5.107, 0.037897, 83.6, 30.224),\n",
       "       (10.0, 0.040584, 0.974389, 23.016407, 3.847, 0.037897, 83.6, 30.224),\n",
       "       (10.0, 0.038009, 0.991429, 26.236465, 2.769, 0.037897, 83.6, 30.224),\n",
       "       (10.0, 0.043023, 1.008336, 20.492016, 2.033, 0.037897, 83.6, 30.224),\n",
       "       (10.0, 0.053547, 1.025113, 13.247842, 1.588, 0.037897, 83.6, 30.224),\n",
       "       (10.0, 0.067054, 1.041761, 8.465549, 1.321, 0.037897, 83.6, 30.224),\n",
       "       (10.0, 0.082107, 1.058282, 5.660036, 1.16, 0.037897, 83.6, 30.224)], \n",
       "      dtype=[('asteroid_id', '<f8'), ('geodist', '<f8'), ('heliodist', '<f8'), ('angvel', '<f8'), ('phaseeffect', '<f8'), ('geodistclose', '<f8'), ('phaseangclose', '<f8'), ('encountervel', '<f8')])"
      ]
     },
     "execution_count": 4,
     "metadata": {},
     "output_type": "execute_result"
    }
   ],
   "source": [
    "# First ten rows of data\n",
    "\n",
    "data_np[0:10]"
   ]
  },
  {
   "cell_type": "markdown",
   "metadata": {},
   "source": [
    "# Confirmed Attempt:\n",
    "\n",
    "$V_{mag} = H_{mag}+5\\log_{10}(\\frac{geo^2}{1 AU}\\frac{helio^2}{1 AU}) + \\phi_{effect} $\n",
    "\n",
    "Where: \n",
    "\n",
    "$H_{mag} = 25$ \n",
    "\n",
    "$\\phi_{effect} =$ phase effect"
   ]
  },
  {
   "cell_type": "code",
   "execution_count": 6,
   "metadata": {},
   "outputs": [
    {
     "name": "stdout",
     "output_type": "stream",
     "text": [
      "First 20 Vmags acquired from above eqaution: \n",
      "\n",
      " [27.953395294538019, 26.650712948050028, 25.161481213606692, 23.48862615554016, 21.832436109103906, 20.649740309166795, 20.219529816694667, 20.285534426672839, 20.541963924983634, 20.85490796854187, 21.177007568661285, 30.155136096768558, 37.009586461309809, 37.100247131171471, 29.135628828846954, 26.616375274953807, 25.459353690801152, 22.748616789713143, 22.822757565635047, 22.982305131892936]\n"
     ]
    }
   ],
   "source": [
    "# Applying Vmag equation to every asteroid within data\n",
    "\n",
    "mags=[]\n",
    "\n",
    "for i in range(0,149999):\n",
    "    vmaggg = 25 + 5 * np.log10((data_np['geodist'][i]) * (data_np['heliodist'][i])) + data_np['phaseeffect'][i]\n",
    "    mags.append(vmaggg)\n",
    "    \n",
    "print('First 20 Vmags acquired from above eqaution: \\n\\n', mags[0:20]) # First 20 Vmags to get an idea of what kind of values we are getting"
   ]
  },
  {
   "cell_type": "code",
   "execution_count": 7,
   "metadata": {},
   "outputs": [],
   "source": [
    "def ap_mag(H,helio_d,geo_d,phi):\n",
    "    '''\n",
    "    Function to calculate the apparent magnitude of an asteroid.\n",
    "    \n",
    "    *H is equal to Absolute Magnitude of asteroid (unitess) (float or int) \n",
    "    \n",
    "    *Be sure helio_d and geo_d are (AU) (float)\n",
    "    \n",
    "    *Phi must be greater or equal to zero (unitless) (float)\n",
    "    \n",
    "    '''\n",
    "    return H + 5 * np.log10(helio_d * geo_d) + phi"
   ]
  },
  {
   "cell_type": "code",
   "execution_count": 9,
   "metadata": {},
   "outputs": [],
   "source": [
    "vmags = ap_mag(25,data_np['heliodist'],data_np['geodist'],data_np['phaseeffect'])"
   ]
  },
  {
   "cell_type": "code",
   "execution_count": 10,
   "metadata": {},
   "outputs": [
    {
     "data": {
      "text/plain": [
       "254.35235747587956"
      ]
     },
     "execution_count": 10,
     "metadata": {},
     "output_type": "execute_result"
    }
   ],
   "source": [
    "vmags.max()"
   ]
  },
  {
   "cell_type": "code",
   "execution_count": 11,
   "metadata": {},
   "outputs": [
    {
     "data": {
      "text/plain": [
       "array([    3145.,     3145.,    28737., ...,  1369742.,  1369742.,\n",
       "        1369742.])"
      ]
     },
     "execution_count": 11,
     "metadata": {},
     "output_type": "execute_result"
    }
   ],
   "source": [
    "data_np['asteroid_id'][vmags<=19] #asteroid ids vmag<=19"
   ]
  },
  {
   "cell_type": "code",
   "execution_count": 12,
   "metadata": {},
   "outputs": [
    {
     "data": {
      "text/plain": [
       "array([[   347],\n",
       "       [   348],\n",
       "       [  2924],\n",
       "       ..., \n",
       "       [149550],\n",
       "       [149551],\n",
       "       [149552]])"
      ]
     },
     "execution_count": 12,
     "metadata": {},
     "output_type": "execute_result"
    }
   ],
   "source": [
    "np.argwhere(vmags<=19) #rows of array that are vmag<=19"
   ]
  },
  {
   "cell_type": "code",
   "execution_count": 13,
   "metadata": {},
   "outputs": [
    {
     "name": "stdout",
     "output_type": "stream",
     "text": [
      "Their are 1634 asteroids that are Vmag < 19\n",
      "\n",
      " These are the first 20 Vmags: \n",
      " \n",
      " [17.562270591975697, 18.046417808529576, 18.698897991097287, 17.761388887009947, 18.993023973896715, 18.874411045330515, 18.833493787936789, 18.43375681759743, 18.337335445116437, 17.818363359760728, 18.938701564068577, 18.999291478800636, 18.464581792317908, 17.792846792549586, 16.952177134387497, 16.127083212617162, 16.413372705580851, 17.398319391656308, 18.378311013431347, 18.398305060718009]\n"
     ]
    }
   ],
   "source": [
    "# Number of asteroids with Vmag < 19\n",
    "\n",
    "less_19=[]\n",
    "\n",
    "for i in mags:\n",
    "    if i < 19:\n",
    "        less_19.append(i)\n",
    "        \n",
    "print('Their are',len(less_19),'asteroids that are Vmag < 19')\n",
    "print('\\n These are the first 20 Vmags: \\n \\n', less_19[0:20]) # First 20 Apparent magnitudes just to get an idea of what kind of values we are getting"
   ]
  },
  {
   "cell_type": "code",
   "execution_count": null,
   "metadata": {},
   "outputs": [],
   "source": []
  }
 ],
 "metadata": {
  "kernelspec": {
   "display_name": "Python 3",
   "language": "python",
   "name": "python3"
  },
  "language_info": {
   "codemirror_mode": {
    "name": "ipython",
    "version": 3
   },
   "file_extension": ".py",
   "mimetype": "text/x-python",
   "name": "python",
   "nbconvert_exporter": "python",
   "pygments_lexer": "ipython3",
   "version": "3.6.1"
  }
 },
 "nbformat": 4,
 "nbformat_minor": 2
}
