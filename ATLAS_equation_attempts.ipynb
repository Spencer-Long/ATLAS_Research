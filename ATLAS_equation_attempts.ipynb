{
 "cells": [
  {
   "cell_type": "markdown",
   "metadata": {},
   "source": [
    "# ATLAS Simulated Data Script: Attempted Equations\n",
    "\n",
    "### Notes:\n",
    "\n",
    "* Vmag (Apparent Magnitude) of Sun = -26.7\n",
    " \n",
    "* Hmag (Absolute Magnitude) of Sun = 4.83 \n",
    "\n",
    "* Equation found through Spaceguard research for Apparent magnitude is [http://spaceguard.rm.iasf.cnr.it/NScience/neo/neo-what/ast-magnitude.htm]:\n",
    "\n",
    "## $ V_{mag} = 5\\log_{10}(rt) + H_{mag} + f(\\alpha)$\n",
    "    \n",
    "Where:\n",
    "                      \n",
    "$V_{mag} =$ Apparent Magnitude\n",
    "\n",
    "$r =$ The distance from the asteroid and the Sun\n",
    "\n",
    "$t =$ The distance between the asteroid and Earth\n",
    "\n",
    "$H_{mag} =$ The Absolute Magnitude\n",
    "\n",
    "$\\alpha =$ The angle between the lines of sight to Earth and the Sun as seen from the asteroid\n",
    "\n",
    "$f(\\alpha) =$ The phase function that depends on the movements of the NEO\n",
    "    \n",
    "### Best Guess: Fourth Attempt\n",
    "\n",
    "* This attempt I feel is closest to the found eqaution through research and the advice I recived from Ari.\n",
    "\n",
    "\n",
    "\n"
   ]
  },
  {
   "cell_type": "markdown",
   "metadata": {},
   "source": [
    "#### Imports"
   ]
  },
  {
   "cell_type": "code",
   "execution_count": 1,
   "metadata": {},
   "outputs": [],
   "source": [
    "import numpy as np\n",
    "import math"
   ]
  },
  {
   "cell_type": "markdown",
   "metadata": {},
   "source": [
    "#### Data"
   ]
  },
  {
   "cell_type": "code",
   "execution_count": 2,
   "metadata": {},
   "outputs": [],
   "source": [
    "# File location of data\n",
    "\n",
    "directory = '/Users/Spencer/Desktop/ATLAS/ATLAS_Research/' "
   ]
  },
  {
   "cell_type": "code",
   "execution_count": 3,
   "metadata": {},
   "outputs": [],
   "source": [
    "data_np= np.genfromtxt(directory + 'atlasdata.txt',dtype='float', delimiter='',skip_header = 1\n",
    "              , names = ['asteroid_id'\n",
    "                        ,'geodist'\n",
    "                        ,'heliodist'\n",
    "                        ,'angvel'\n",
    "                        ,'phaseeffect'\n",
    "                        ,'geodistclose'\n",
    "                        ,'phaseangclose'\n",
    "                        ,'encountervel'],)"
   ]
  },
  {
   "cell_type": "code",
   "execution_count": 4,
   "metadata": {},
   "outputs": [
    {
     "data": {
      "text/plain": [
       "array([(10.0, 0.092574, 0.904878, 4.476545, 8.338, 0.037897, 83.6, 30.224),\n",
       "       (10.0, 0.076912, 0.922462, 6.45392, 7.396, 0.037897, 83.6, 30.224),\n",
       "       (10.0, 0.062289, 0.939907, 9.804935, 6.324, 0.037897, 83.6, 30.224),\n",
       "       (10.0, 0.049581, 0.957216, 15.439561, 5.107, 0.037897, 83.6, 30.224),\n",
       "       (10.0, 0.040584, 0.974389, 23.016407, 3.847, 0.037897, 83.6, 30.224),\n",
       "       (10.0, 0.038009, 0.991429, 26.236465, 2.769, 0.037897, 83.6, 30.224),\n",
       "       (10.0, 0.043023, 1.008336, 20.492016, 2.033, 0.037897, 83.6, 30.224),\n",
       "       (10.0, 0.053547, 1.025113, 13.247842, 1.588, 0.037897, 83.6, 30.224),\n",
       "       (10.0, 0.067054, 1.041761, 8.465549, 1.321, 0.037897, 83.6, 30.224),\n",
       "       (10.0, 0.082107, 1.058282, 5.660036, 1.16, 0.037897, 83.6, 30.224)], \n",
       "      dtype=[('asteroid_id', '<f8'), ('geodist', '<f8'), ('heliodist', '<f8'), ('angvel', '<f8'), ('phaseeffect', '<f8'), ('geodistclose', '<f8'), ('phaseangclose', '<f8'), ('encountervel', '<f8')])"
      ]
     },
     "execution_count": 4,
     "metadata": {},
     "output_type": "execute_result"
    }
   ],
   "source": [
    "# First ten rows of data\n",
    "\n",
    "data_np[0:10]"
   ]
  },
  {
   "cell_type": "markdown",
   "metadata": {},
   "source": [
    "# ================================================================================================================================"
   ]
  },
  {
   "cell_type": "markdown",
   "metadata": {},
   "source": [
    "### First Attempt:\n",
    "\n",
    "$V_{mag} = H_{mag}-2.5\\log_{10}(\\frac{1}{geo^2}\\frac{1}{helio^2}) + \\phi_{effect} $\n",
    "\n",
    "Where: \n",
    "\n",
    "$H_{mag} = 25$ \n",
    "\n",
    "$\\phi_{effect} =$ phase effect"
   ]
  },
  {
   "cell_type": "code",
   "execution_count": 5,
   "metadata": {},
   "outputs": [
    {
     "name": "stdout",
     "output_type": "stream",
     "text": [
      "First 20 Vmags acquired from above eqaution: \n",
      "\n",
      " [27.953395294538019, 26.650712948050028, 25.161481213606692, 23.48862615554016, 21.832436109103906, 20.649740309166795, 20.219529816694667, 20.285534426672839, 20.541963924983634, 20.85490796854187, 21.177007568661285, 30.155136096768558, 37.009586461309809, 37.100247131171471, 29.135628828846954, 26.616375274953807, 25.459353690801152, 22.748616789713143, 22.822757565635047, 22.982305131892936]\n"
     ]
    }
   ],
   "source": [
    "# Applying Vmag equation to every asteroid within data\n",
    "\n",
    "mags=[]\n",
    "\n",
    "for i in range(0,149999):\n",
    "    vmaggg = 25 - 2.5 * math.log10((1/(data_np['geodist'][i])**2) * (1/(data_np['heliodist'][i])**2)) + data_np['phaseeffect'][i]\n",
    "    mags.append(vmaggg)\n",
    "    \n",
    "print('First 20 Vmags acquired from above eqaution: \\n\\n', mags[0:20]) # First 20 Vmags to get an idea of what kind of values we are getting"
   ]
  },
  {
   "cell_type": "code",
   "execution_count": 6,
   "metadata": {},
   "outputs": [
    {
     "name": "stdout",
     "output_type": "stream",
     "text": [
      "Their are 1634 asteroids that are Vmag < 19\n",
      "\n",
      " These are the first 20 Vmags: \n",
      " \n",
      " [17.562270591975697, 18.046417808529576, 18.698897991097287, 17.761388887009947, 18.993023973896715, 18.874411045330515, 18.833493787936789, 18.43375681759743, 18.337335445116437, 17.818363359760728, 18.938701564068577, 18.999291478800636, 18.464581792317908, 17.792846792549586, 16.952177134387497, 16.127083212617162, 16.413372705580851, 17.398319391656308, 18.378311013431347, 18.398305060718009]\n"
     ]
    }
   ],
   "source": [
    "# Number of asteroids with Vmag < 19\n",
    "\n",
    "less_19=[]\n",
    "\n",
    "for i in mags:\n",
    "    if i < 19:\n",
    "        less_19.append(i)\n",
    "        \n",
    "print('Their are',len(less_19),'asteroids that are Vmag < 19')\n",
    "print('\\n These are the first 20 Vmags: \\n \\n', less_19[0:20]) # First 20 Apparent magnitudes just to get an idea of what kind of values we are getting"
   ]
  },
  {
   "cell_type": "markdown",
   "metadata": {},
   "source": [
    "# ================================================================================================================================"
   ]
  },
  {
   "cell_type": "markdown",
   "metadata": {},
   "source": [
    "### Second Attempt:\n",
    "\n",
    "$V_{mag} = H_{mag}+2.5\\log_{10}(\\frac{1}{geo^2}\\frac{1}{helio^2}) + \\phi_{effect} $\n",
    "\n",
    "Where: \n",
    "\n",
    "$H_{mag} = 25$ \n",
    "\n",
    "$\\phi_{effect} =$ phase effect"
   ]
  },
  {
   "cell_type": "code",
   "execution_count": 7,
   "metadata": {},
   "outputs": [
    {
     "name": "stdout",
     "output_type": "stream",
     "text": [
      "First 20 Vmags acquired from above eqaution: \n",
      "\n",
      " [38.722604705461976, 38.141287051949973, 37.486518786393304, 36.725373844459838, 35.8615638908961, 34.888259690833202, 33.846470183305335, 32.890465573327162, 32.100036075016369, 31.465092031458131, 30.950992431338715, 40.79086390323144, 48.078413538690192, 48.393752868828528, 40.364371171153046, 37.507624725046192, 35.83864630919885, 32.681383210286853, 33.033242434364951, 33.373694868107066]\n"
     ]
    }
   ],
   "source": [
    "# Applying Vmag equation to every asteroid within data\n",
    "\n",
    "mags=[]\n",
    "\n",
    "for i in range(0,149999):\n",
    "    vmaggg = 25 + 2.5 * math.log10((1/(data_np['geodist'][i])**2) * (1/(data_np['heliodist'][i])**2)) + data_np['phaseeffect'][i]\n",
    "    mags.append(vmaggg)\n",
    "    \n",
    "print('First 20 Vmags acquired from above eqaution: \\n\\n', mags[0:20]) # First 20 Vmags to get an idea of what kind of values we are getting"
   ]
  },
  {
   "cell_type": "code",
   "execution_count": 8,
   "metadata": {},
   "outputs": [
    {
     "name": "stdout",
     "output_type": "stream",
     "text": [
      "Their are 0 asteroids that are Vmag < 19\n",
      "\n",
      " These are the first 20 Vmags: \n",
      " \n",
      " []\n"
     ]
    }
   ],
   "source": [
    "# Number of asteroids with Vmag < 19\n",
    "\n",
    "less_19=[]\n",
    "\n",
    "for i in mags:\n",
    "    if i < 19:\n",
    "        less_19.append(i)\n",
    "        \n",
    "print('Their are',len(less_19),'asteroids that are Vmag < 19')\n",
    "print('\\n These are the first 20 Vmags: \\n \\n', less_19[0:20]) # First 20 Apparent magnitudes just to get an idea of what kind of values we are getting"
   ]
  },
  {
   "cell_type": "markdown",
   "metadata": {},
   "source": [
    "# ================================================================================================================================"
   ]
  },
  {
   "cell_type": "markdown",
   "metadata": {},
   "source": [
    "### Third Attempt:\n",
    "\n",
    "$V_{mag} = H_{mag}-5\\log_{10}(\\frac{1}{geo^2}\\frac{1}{helio^2}) + \\phi_{effect} $\n",
    "\n",
    "Where: \n",
    "\n",
    "$H_{mag} = 25$ \n",
    "\n",
    "$\\phi_{effect} =$ phase effect"
   ]
  },
  {
   "cell_type": "code",
   "execution_count": 9,
   "metadata": {},
   "outputs": [
    {
     "name": "stdout",
     "output_type": "stream",
     "text": [
      "First 20 Vmags acquired from above eqaution: \n",
      "\n",
      " [22.568790589076045, 20.905425896100059, 18.998962427213385, 16.870252311080325, 14.817872218207809, 13.530480618333586, 13.406059633389328, 13.983068853345678, 14.762927849967266, 15.549815937083743, 16.29001513732257, 24.837272193537121, 31.475172922619617, 31.453494262342939, 23.521257657693912, 21.170750549907616, 20.269707381602302, 17.78223357942629, 17.717515131270094, 17.786610263785867]\n"
     ]
    }
   ],
   "source": [
    "# Applying Vmag equation to every asteroid within data\n",
    "\n",
    "mags=[]\n",
    "\n",
    "for i in range(0,149999):\n",
    "    vmaggg = 25 - 5 * math.log10((1/(data_np['geodist'][i])**2) * (1/(data_np['heliodist'][i])**2)) + data_np['phaseeffect'][i]\n",
    "    mags.append(vmaggg)\n",
    "    \n",
    "print('First 20 Vmags acquired from above eqaution: \\n\\n', mags[0:20]) # First 20 Vmags to get an idea of what kind of values we are getting"
   ]
  },
  {
   "cell_type": "code",
   "execution_count": 10,
   "metadata": {},
   "outputs": [
    {
     "name": "stdout",
     "output_type": "stream",
     "text": [
      "Their are 123453 asteroids that are Vmag < 19\n",
      "\n",
      " These are the first 20 Vmags: \n",
      " \n",
      " [18.998962427213385, 16.870252311080325, 14.817872218207809, 13.530480618333586, 13.406059633389328, 13.983068853345678, 14.762927849967266, 15.549815937083743, 16.29001513732257, 17.78223357942629, 17.717515131270094, 17.786610263785867, 18.00412004146467, 18.358501213636622, 18.812564740493958, 17.612645550327525, 17.669425652920655, 17.913725380091066, 18.331647827374702, 18.163045690380649]\n"
     ]
    }
   ],
   "source": [
    "# Number of asteroids with Vmag < 19\n",
    "\n",
    "less_19=[]\n",
    "\n",
    "for i in mags:\n",
    "    if i < 19:\n",
    "        less_19.append(i)\n",
    "        \n",
    "print('Their are',len(less_19),'asteroids that are Vmag < 19')\n",
    "print('\\n These are the first 20 Vmags: \\n \\n', less_19[0:20]) # First 20 Apparent magnitudes just to get an idea of what kind of values we are getting"
   ]
  },
  {
   "cell_type": "markdown",
   "metadata": {},
   "source": [
    "# ================================================================================================================================"
   ]
  },
  {
   "cell_type": "markdown",
   "metadata": {},
   "source": [
    "### Confirmed Attempt:\n",
    "\n",
    "$V_{mag} = H_{mag}+5\\log_{10}(\\frac{geo^2}{1 AU}\\frac{helio^2}{1 AU}) + \\phi_{effect} $\n",
    "\n",
    "Where: \n",
    "\n",
    "$H_{mag} = 25$ \n",
    "\n",
    "$\\phi_{effect} =$ phase effect"
   ]
  },
  {
   "cell_type": "code",
   "execution_count": 11,
   "metadata": {},
   "outputs": [
    {
     "name": "stdout",
     "output_type": "stream",
     "text": [
      "First 20 Vmags acquired from above eqaution: \n",
      "\n",
      " [44.107209410923957, 43.886574103899946, 43.649037572786611, 43.343747688919677, 42.876127781792192, 42.007519381666413, 40.65994036661067, 39.192931146654324, 37.879072150032734, 36.770184062916258, 35.83798486267743, 46.10872780646288, 53.612827077380388, 54.040505737657057, 45.978742342306091, 42.953249450092386, 41.0282926183977, 37.647766420573717, 38.138484868729904, 38.569389736214127]\n"
     ]
    }
   ],
   "source": [
    "# Applying Vmag equation to every asteroid within data\n",
    "\n",
    "mags=[]\n",
    "\n",
    "for i in range(0,149999):\n",
    "    vmaggg = 25 + 5 * np.log10((data_np['geodist'][i]) * (data_np['heliodist'][i])b) + data_np['phaseeffect'][i]\n",
    "    mags.append(vmaggg)\n",
    "    \n",
    "print('First 20 Vmags acquired from above eqaution: \\n\\n', mags[0:20]) # First 20 Vmags to get an idea of what kind of values we are getting"
   ]
  },
  {
   "cell_type": "code",
   "execution_count": 34,
   "metadata": {},
   "outputs": [],
   "source": [
    "def ap_mag(H,helio_d,geo_d,phi):\n",
    "    '''\n",
    "    Function to calculate the apparent magnitude of an asteroid.\n",
    "    \n",
    "    *H is equal to Absolute Magnitude of asteroid (unitess) (float or int) \n",
    "    \n",
    "    *Be sure helio_d and geo_d are (AU) (float)\n",
    "    \n",
    "    *Phi must be greater or equal to zero (unitless) (float)\n",
    "    \n",
    "    '''\n",
    "    return H + 5 * np.log10(helio_d * geo_d) + phi"
   ]
  },
  {
   "cell_type": "code",
   "execution_count": 35,
   "metadata": {},
   "outputs": [
    {
     "data": {
      "text/plain": [
       "\u001b[0;31mSignature:\u001b[0m \u001b[0map_mag\u001b[0m\u001b[0;34m(\u001b[0m\u001b[0mH\u001b[0m\u001b[0;34m,\u001b[0m \u001b[0mhelio_d\u001b[0m\u001b[0;34m,\u001b[0m \u001b[0mgeo_d\u001b[0m\u001b[0;34m,\u001b[0m \u001b[0mphi\u001b[0m\u001b[0;34m)\u001b[0m\u001b[0;34m\u001b[0m\u001b[0m\n",
       "\u001b[0;31mDocstring:\u001b[0m\n",
       "Function to calculate the apparent magnitude of an asteroid.\n",
       "\n",
       "*H is equal to Absolute Magnitude of asteroid (unitess) (float or int) \n",
       "\n",
       "*Be sure helio_d and geo_d are (AU) (float)\n",
       "\n",
       "*Phi must be greater or equal to zero (unitless) (float)\n",
       "\u001b[0;31mFile:\u001b[0m      ~/Desktop/ATLAS/ATLAS_Research/<ipython-input-34-8b21e42731fb>\n",
       "\u001b[0;31mType:\u001b[0m      function\n"
      ]
     },
     "metadata": {},
     "output_type": "display_data"
    }
   ],
   "source": [
    "?ap_mag"
   ]
  },
  {
   "cell_type": "code",
   "execution_count": 23,
   "metadata": {},
   "outputs": [],
   "source": [
    "vmags = ap_mag(25,data_np['heliodist'],data_np['geodist'],data_np['phaseeffect'])"
   ]
  },
  {
   "cell_type": "code",
   "execution_count": 25,
   "metadata": {},
   "outputs": [
    {
     "data": {
      "text/plain": [
       "254.35235747587956"
      ]
     },
     "execution_count": 25,
     "metadata": {},
     "output_type": "execute_result"
    }
   ],
   "source": [
    "vmags.max()"
   ]
  },
  {
   "cell_type": "code",
   "execution_count": 33,
   "metadata": {},
   "outputs": [
    {
     "data": {
      "text/plain": [
       "array([    3145.,     3145.,    28737., ...,  1369742.,  1369742.,\n",
       "        1369742.])"
      ]
     },
     "execution_count": 33,
     "metadata": {},
     "output_type": "execute_result"
    }
   ],
   "source": [
    "data_np['asteroid_id'][vmags<=19] #asteroid ids vmag<=19"
   ]
  },
  {
   "cell_type": "code",
   "execution_count": 32,
   "metadata": {},
   "outputs": [
    {
     "data": {
      "text/plain": [
       "array([[   347],\n",
       "       [   348],\n",
       "       [  2924],\n",
       "       ..., \n",
       "       [149550],\n",
       "       [149551],\n",
       "       [149552]])"
      ]
     },
     "execution_count": 32,
     "metadata": {},
     "output_type": "execute_result"
    }
   ],
   "source": [
    "np.argwhere(vmags<=19) #rows of array that are vmag<=19"
   ]
  },
  {
   "cell_type": "code",
   "execution_count": 12,
   "metadata": {},
   "outputs": [
    {
     "name": "stdout",
     "output_type": "stream",
     "text": [
      "Their are 0 asteroids that are Vmag < 19\n",
      "\n",
      " These are the first 20 Vmags: \n",
      " \n",
      " []\n"
     ]
    }
   ],
   "source": [
    "# Number of asteroids with Vmag < 19\n",
    "\n",
    "less_19=[]\n",
    "\n",
    "for i in mags:\n",
    "    if i < 19:\n",
    "        less_19.append(i)\n",
    "        \n",
    "print('Their are',len(less_19),'asteroids that are Vmag < 19')\n",
    "print('\\n These are the first 20 Vmags: \\n \\n', less_19[0:20]) # First 20 Apparent magnitudes just to get an idea of what kind of values we are getting"
   ]
  },
  {
   "cell_type": "markdown",
   "metadata": {},
   "source": [
    "# ================================================================================================================================"
   ]
  }
 ],
 "metadata": {
  "kernelspec": {
   "display_name": "Python 3",
   "language": "python",
   "name": "python3"
  },
  "language_info": {
   "codemirror_mode": {
    "name": "ipython",
    "version": 3
   },
   "file_extension": ".py",
   "mimetype": "text/x-python",
   "name": "python",
   "nbconvert_exporter": "python",
   "pygments_lexer": "ipython3",
   "version": "3.6.1"
  }
 },
 "nbformat": 4,
 "nbformat_minor": 2
}
