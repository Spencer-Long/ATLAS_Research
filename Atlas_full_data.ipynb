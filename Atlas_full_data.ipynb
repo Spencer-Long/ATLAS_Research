{
 "cells": [
  {
   "cell_type": "markdown",
   "metadata": {},
   "source": [
    "# ATLAS Simulated Data Script\n",
    "\n",
    "##### Version 1.2 (Size: 10623319 Rows by 8 Columns)\n",
    "\n",
    "\n",
    "This version contains the full dataset but only 8 columns picked out by Ari for Spencer. \n",
    " \n",
    "### Notes:\n",
    "\n",
    "## $ V_{mag} = 5\\log_{10}(rt) + H_{mag} + f(\\alpha)$\n",
    "    \n",
    "Where:\n",
    "                      \n",
    "$V_{mag} =$ Apparent Magnitude<br> \n",
    "$r =$ The distance from the asteroid and the Sun<br>\n",
    "$t =$ The distance between the asteroid and Earth<br>\n",
    "$H_{mag} =$ The Absolute Magnitude (Here we use 25)<br> \n",
    "$\\alpha =$ The angle between the lines of sight to Earth and the Sun as seen from the asteroid<br>\n",
    "$f(\\alpha) =$ The phase function that depends on the movements of the NEO (Phase Effect)<br>\n",
    "\n",
    "### Refrences:\n",
    "\n",
    "* Vmag (Apparent Magnitude) of Sun = -26.7 <br>\n",
    "* Hmag (Absolute Magnitude) of Sun = 4.83 \n",
    "\n",
    "============================================================================================================================================="
   ]
  },
  {
   "cell_type": "markdown",
   "metadata": {},
   "source": [
    "#### Imports"
   ]
  },
  {
   "cell_type": "code",
   "execution_count": 1,
   "metadata": {},
   "outputs": [],
   "source": [
    "import numpy as np\n",
    "import pandas as pd"
   ]
  },
  {
   "cell_type": "markdown",
   "metadata": {},
   "source": [
    "#### Data"
   ]
  },
  {
   "cell_type": "code",
   "execution_count": 2,
   "metadata": {},
   "outputs": [],
   "source": [
    "# File directory to location of data\n",
    "\n",
    "directory = '/Users/Spencer/Desktop/ATLAS/ATLAS_Research/Data/' "
   ]
  },
  {
   "cell_type": "code",
   "execution_count": 11,
   "metadata": {},
   "outputs": [],
   "source": [
    "# Read in data through Numpy\n",
    "# Header: asteroid_id, geodist, heliodist, angvel, phaseeffect, geodistclose, phaseangclose, encountervel\n",
    "\n",
    "data_np= np.genfromtxt(directory + 'dyn8merged02spencer01.txt', dtype='float', delimiter='', skip_header = 1,\n",
    "                names = ['asteroid_id'\n",
    "                        ,'geodist'\n",
    "                        ,'heliodist'\n",
    "                        ,'angvel'\n",
    "                        ,'phaseeffect'\n",
    "                        ,'geodistclose'\n",
    "                        ,'phaseangclose'\n",
    "                        ,'encountervel'],)"
   ]
  },
  {
   "cell_type": "code",
   "execution_count": 12,
   "metadata": {},
   "outputs": [],
   "source": [
    "# Read in data through Pandas\n",
    "\n",
    "df_pandas = pd.read_csv(directory + 'dyn8merged02spencer01.txt', engine='python', sep=' ',\n",
    "                  names=['asteroid_id'\n",
    "                        ,'geodist'\n",
    "                        ,'heliodist'\n",
    "                        ,'angvel'\n",
    "                        ,'phaseeffect'\n",
    "                        ,'geodistclose'\n",
    "                        ,'phaseangclose'\n",
    "                        ,'encountervel'])\n",
    "\n"
   ]
  },
  {
   "cell_type": "markdown",
   "metadata": {},
   "source": [
    "#### A Function to find the Vmag of an asteroid"
   ]
  },
  {
   "cell_type": "code",
   "execution_count": 13,
   "metadata": {},
   "outputs": [],
   "source": [
    "def ap_mag(H,helio_d,geo_d,phi):\n",
    "    \n",
    "    '''\n",
    "    Function to calculate the apparent magnitude of an asteroid.\n",
    "    \n",
    "    *H is equal to Absolute Magnitude of asteroid (unitless) (float or int) \n",
    "    \n",
    "    *Be sure helio_d and geo_d are (AU) (float)\n",
    "    \n",
    "    *Phi must be greater or equal to zero (unitless) (float)\n",
    "    \n",
    "    '''\n",
    "    \n",
    "    return H + 5 * np.log10(helio_d * geo_d) + phi"
   ]
  },
  {
   "cell_type": "code",
   "execution_count": 14,
   "metadata": {},
   "outputs": [],
   "source": [
    "vmags = ap_mag(25,data_np['heliodist'],data_np['geodist'],data_np['phaseeffect'])"
   ]
  },
  {
   "cell_type": "code",
   "execution_count": 15,
   "metadata": {},
   "outputs": [
    {
     "name": "stdout",
     "output_type": "stream",
     "text": [
      "The number of asteroids whos apparent magnitudes are <= 19 is: 115074\n"
     ]
    }
   ],
   "source": [
    "# asteroid ids vmag<=19\n",
    "\n",
    "df_less_19 = data_np['asteroid_id'][vmags<=19]\n",
    "print('The number of asteroids whos apparent magnitudes are <= 19 is:', len(df_less_19))"
   ]
  },
  {
   "cell_type": "markdown",
   "metadata": {},
   "source": [
    "# Streaked vs. Non-Streaked\n",
    "\n",
    "### Required apparent magnitudes to be deteced by ATLAS\n",
    "\n",
    "Non-Streaked vmag < 19 <br>\n",
    "Streaked vmag = m_lim (See equation below) \n",
    "\n",
    "## $M_{lim}=19-2.5\\log(e)$ <br>\n",
    "\n",
    "##### Where: \n",
    "\n",
    "$M_{lim}$= Apparent magnitude needed to detect a streaked asteroid <br>\n",
    "$e=\\frac{l}{2r}$ <br>\n",
    "$l$= Length of the streak <br>\n",
    "$r$= Radius of streak\n",
    "\n",
    "##### How to find $l$:\n",
    "\n",
    "#### $l=E(Seconds) \\cdot V_a(\\frac{Degree}{Day}) \\cdot \\frac{3600}{1}(\\frac{ArcSeconds}{Degree})\\cdot \\frac{1}{86400}(\\frac{Day}{Seconds})$\n",
    "\n",
    "##### Where:\n",
    "\n",
    "$E$= Exsposure time (Seconds) <br>\n",
    "$V_a$= Angular Velocity (Degrees per day) <br>\n",
    "\n",
    "##### Constants:\n",
    "\n",
    "$E$= 30 Seconds. This is the typical exposure time for ATLAS images. <br>\n",
    "$2r$ = 4 Arc Seconds.\n",
    "\n",
    "============================================================================================================================================="
   ]
  },
  {
   "cell_type": "markdown",
   "metadata": {},
   "source": [
    "##### Calculating  $l$ for the entire df (dataframe):"
   ]
  },
  {
   "cell_type": "code",
   "execution_count": 33,
   "metadata": {},
   "outputs": [],
   "source": [
    "df_pandas['length'] = 30*df_pandas['angvel']*3600*(1/86400)"
   ]
  },
  {
   "cell_type": "markdown",
   "metadata": {},
   "source": [
    "##### Calculating the $M_{lim}$ of the entire df (dataframe):\n"
   ]
  },
  {
   "cell_type": "code",
   "execution_count": 17,
   "metadata": {},
   "outputs": [],
   "source": [
    "df_pandas['m_lim']= 19-2.5*np.log10(df_pandas['length']/4)"
   ]
  },
  {
   "cell_type": "code",
   "execution_count": 22,
   "metadata": {},
   "outputs": [
    {
     "data": {
      "text/plain": [
       "count    1.062332e+07\n",
       "mean     1.861948e+01\n",
       "std      8.061432e-01\n",
       "min      1.263524e+01\n",
       "25%      1.809103e+01\n",
       "50%      1.858147e+01\n",
       "75%      1.909352e+01\n",
       "max      2.706371e+01\n",
       "Name: m_lim, dtype: float64"
      ]
     },
     "execution_count": 22,
     "metadata": {},
     "output_type": "execute_result"
    }
   ],
   "source": [
    "df_pandas['m_lim'].describe()"
   ]
  },
  {
   "cell_type": "code",
   "execution_count": 31,
   "metadata": {},
   "outputs": [
    {
     "data": {
      "text/plain": [
       "count    7.547481e+06\n",
       "mean     1.823217e+01\n",
       "std      5.245486e-01\n",
       "min      1.263524e+01\n",
       "25%      1.791493e+01\n",
       "50%      1.830845e+01\n",
       "75%      1.864298e+01\n",
       "max      1.900000e+01\n",
       "Name: m_lim, dtype: float64"
      ]
     },
     "execution_count": 31,
     "metadata": {},
     "output_type": "execute_result"
    }
   ],
   "source": [
    "# Number of streaked asteroids that would have to be less than or equal to 19 magnitude to be detected\n",
    "m_lim_19 = df_pandas['m_lim'][df_pandas['m_lim']<=19]\n",
    "m_lim_19.describe()"
   ]
  },
  {
   "cell_type": "code",
   "execution_count": null,
   "metadata": {},
   "outputs": [],
   "source": []
  }
 ],
 "metadata": {
  "kernelspec": {
   "display_name": "Python 3",
   "language": "python",
   "name": "python3"
  },
  "language_info": {
   "codemirror_mode": {
    "name": "ipython",
    "version": 3
   },
   "file_extension": ".py",
   "mimetype": "text/x-python",
   "name": "python",
   "nbconvert_exporter": "python",
   "pygments_lexer": "ipython3",
   "version": "3.6.1"
  }
 },
 "nbformat": 4,
 "nbformat_minor": 2
}
